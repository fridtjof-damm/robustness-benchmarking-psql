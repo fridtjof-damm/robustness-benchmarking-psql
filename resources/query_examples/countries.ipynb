{
 "cells": [
  {
   "cell_type": "code",
   "execution_count": 2,
   "metadata": {},
   "outputs": [],
   "source": [
    "import psycopg2 as pg \n",
    "import pandas as pd\n",
    "import numpy as np\n",
    "import random\n",
    "import math"
   ]
  },
  {
   "cell_type": "markdown",
   "metadata": {},
   "source": [
    "## German List Section\n"
   ]
  },
  {
   "cell_type": "code",
   "execution_count": 3,
   "metadata": {},
   "outputs": [],
   "source": [
    "url = 'https://de.wikipedia.org/wiki/Liste_der_L%C3%A4nder_und_Territorien_nach_Einwohnerzahl'\n",
    "html = pd.read_html(url)\n",
    "df = max(html, key=len)\n",
    "# nur staat und einwohnerzahl\n",
    "df = df[['Staat', 'Einwohnerzahl (2024)']]\n",
    "# welt und eu rausnehemn \n",
    "df = df[df['Staat'] != 'Welt']\n",
    "df = df[df['Staat'] != 'Europäische Union']\n",
    "# columns umbenenen\n",
    "df.columns = ['country', 'population']\n",
    "# tausender seperatoren removen\n",
    "df['population'] = df['population'].str.replace('.', '') \n",
    "df['population'] = df['population'].astype(int)\n",
    "# durch tausend teilen wegen einfachheit\n",
    "#df['population'] = np.where(df['population'] < 1000,\n",
    "#                            df['population'],\n",
    "#                           df['population'].astype(int) // 1000)'\n",
    "df['population'] = df['population'].apply(lambda x: math.ceil(x/1000))\n",
    "# clean up country names \n",
    "df['country'] = df['country'].str.replace('\\[.*?\\]', '')\n",
    "df['country'] = df['country'].str.strip()\n",
    "df['country'] = (df['country']\n",
    "                .str.replace('\\[.*?\\]', '', regex=True)      \n",
    "                .str.replace('\\xa0', ' ', regex=True)        \n",
    "                .str.replace('\\s+', ' ', regex=True)         \n",
    "                .str.strip()) \n",
    "# reset index\n",
    "df = df.reset_index(drop=True)"
   ]
  },
  {
   "cell_type": "markdown",
   "metadata": {},
   "source": [
    "## Taking a look at the german list"
   ]
  },
  {
   "cell_type": "code",
   "execution_count": 4,
   "metadata": {},
   "outputs": [
    {
     "name": "stdout",
     "output_type": "stream",
     "text": [
      "                 country  population\n",
      "236         Vatikanstadt           1\n",
      "235                 Niue           2\n",
      "234              Tokelau           3\n",
      "233       Falklandinseln           4\n",
      "232           Montserrat           5\n",
      "..                   ...         ...\n",
      "4               Pakistan      251270\n",
      "3             Indonesien      283488\n",
      "2     Vereinigte Staaten      345427\n",
      "1    Volksrepublik China     1419322\n",
      "0                 Indien     1450936\n",
      "\n",
      "[237 rows x 2 columns]\n"
     ]
    }
   ],
   "source": [
    "\n",
    "daten = df\n",
    "daten = daten.sort_values('population', ascending=True)\n",
    "print(daten)"
   ]
  },
  {
   "cell_type": "markdown",
   "metadata": {},
   "source": [
    "# English list section\n"
   ]
  },
  {
   "cell_type": "code",
   "execution_count": 73,
   "metadata": {},
   "outputs": [
    {
     "name": "stdout",
     "output_type": "stream",
     "text": [
      "                          country  population\n",
      "0                           China     1409670\n",
      "1                           India     1404910\n",
      "2                   United States      335894\n",
      "3                       Indonesia      282478\n",
      "4                        Pakistan      241500\n",
      "..                            ...         ...\n",
      "232    Norfolk Island (Australia)           3\n",
      "233  Christmas Island (Australia)           2\n",
      "234            Niue (New Zealand)           2\n",
      "235         Tokelau (New Zealand)           2\n",
      "236                  Vatican City           1\n",
      "\n",
      "[237 rows x 2 columns]\n"
     ]
    }
   ],
   "source": [
    "url = 'https://en.wikipedia.org/wiki/List_of_countries_and_dependencies_by_population'\n",
    "html = pd.read_html(url)\n",
    "df = max(html, key=len)\n",
    "df = df[['Location', 'Population']]\n",
    "df = df[df['Location'] != 'World']\n",
    "df = df.iloc[:-2]\n",
    "df.columns = ['country', 'population']\n",
    "df['population'] = df['population'].astype(int)\n",
    "df['population'] = df['population'].apply(lambda x: math.ceil(x/1000))\n",
    "#df = df.sort_values('population', ascending=True)\n",
    "df = df.reset_index(drop=True)\n",
    "print(df)"
   ]
  },
  {
   "cell_type": "markdown",
   "metadata": {},
   "source": [
    "### Print bar diagram"
   ]
  },
  {
   "cell_type": "code",
   "execution_count": 5,
   "metadata": {},
   "outputs": [
    {
     "data": {
      "image/png": "[encoded data removed]",
      "text/plain": [
       "<Figure size 600x600 with 1 Axes>"
      ]
     },
     "metadata": {},
     "output_type": "display_data"
    }
   ],
   "source": [
    "import matplotlib.pyplot as plt \n",
    "\n",
    "#assert len(countries) == len(population)\n",
    "#countries = list(df['country'])\n",
    "#population = list(df['population'])\n",
    "countries = list(daten['country'])\n",
    "population = list(daten['population'])\n",
    "population = [(i/1000000) for i in population]\n",
    "\n",
    "fig, ax = plt.subplots(figsize=(6,6))\n",
    "\n",
    "bars = ax.bar(countries, population)\n",
    "\n",
    "plt.xticks([])\n",
    "\n",
    "ax.text(0,  # Position of India (first bar)\n",
    "        0.001,  # Population value (slightly above the bar)\n",
    "        f'Vatican City\\n496', \n",
    "        ha='center', \n",
    "        va='bottom')\n",
    "\n",
    "ax.text(len(countries)-1,  # Position of last bar\n",
    "        1.43,  # Population value (slightly above the bar)\n",
    "        f'India\\n1.45B', \n",
    "        ha='right', \n",
    "        va='bottom')\n",
    "\n",
    "ax.set_ylabel('population in billion')\n",
    "ax.set_title('Population by Country')\n",
    "\n",
    "plt.tight_layout()\n",
    "plt.savefig('../../results/plots/population_chart.png', dpi=600, bbox_inches='tight')\n",
    "\n",
    "plt.show()\n",
    "\n",
    "\n"
   ]
  }
 ],
 "metadata": {
  "kernelspec": {
   "display_name": "thesis",
   "language": "python",
   "name": "python3"
  },
  "language_info": {
   "codemirror_mode": {
    "name": "ipython",
    "version": 3
   },
   "file_extension": ".py",
   "mimetype": "text/x-python",
   "name": "python",
   "nbconvert_exporter": "python",
   "pygments_lexer": "ipython3",
   "version": "3.10.0"
  }
 },
 "nbformat": 4,
 "nbformat_minor": 2
}
