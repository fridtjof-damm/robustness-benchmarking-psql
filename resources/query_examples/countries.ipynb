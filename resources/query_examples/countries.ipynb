{
 "cells": [
  {
   "cell_type": "code",
   "execution_count": 1,
   "metadata": {},
   "outputs": [],
   "source": [
    "import psycopg2 as pg \n",
    "import pandas as pd\n",
    "import numpy as np\n",
    "import random\n",
    "import math\n",
    "from faker import Faker"
   ]
  },
  {
   "cell_type": "markdown",
   "metadata": {},
   "source": [
    "## German List Section\n"
   ]
  },
  {
   "cell_type": "code",
   "execution_count": 2,
   "metadata": {},
   "outputs": [],
   "source": [
    "url = 'https://de.wikipedia.org/wiki/Liste_der_L%C3%A4nder_und_Territorien_nach_Einwohnerzahl'\n",
    "html = pd.read_html(url)\n",
    "df = max(html, key=len)\n",
    "# nur staat und einwohnerzahl\n",
    "df = df[['Staat', 'Einwohnerzahl (2024)']]\n",
    "# welt und eu rausnehemn \n",
    "df = df[df['Staat'] != 'Welt']\n",
    "df = df[df['Staat'] != 'Europäische Union']\n",
    "# columns umbenenen\n",
    "df.columns = ['country', 'population']\n",
    "# tausender seperatoren removen\n",
    "df['population'] = df['population'].str.replace('.', '') \n",
    "df['population'] = df['population'].astype(int)\n",
    "# durch tausend teilen wegen einfachheit\n",
    "#df['population'] = np.where(df['population'] < 1000,\n",
    "#                            df['population'],\n",
    "#                           df['population'].astype(int) // 1000)'\n",
    "df['population'] = df['population'].apply(lambda x: math.ceil(x/1000))\n",
    "# clean up country names \n",
    "df['country'] = df['country'].str.replace('\\[.*?\\]', '')\n",
    "df['country'] = df['country'].str.strip()\n",
    "df['country'] = (df['country']\n",
    "                .str.replace('\\[.*?\\]', '', regex=True)      \n",
    "                .str.replace('\\xa0', ' ', regex=True)        \n",
    "                .str.replace('\\s+', ' ', regex=True)         \n",
    "                .str.strip()) \n",
    "# reset index\n",
    "df = df.reset_index(drop=True)"
   ]
  },
  {
   "cell_type": "markdown",
   "metadata": {},
   "source": [
    "## Taking a look at the german list"
   ]
  },
  {
   "cell_type": "code",
   "execution_count": 3,
   "metadata": {},
   "outputs": [
    {
     "name": "stdout",
     "output_type": "stream",
     "text": [
      "                 country  population\n",
      "236         Vatikanstadt           1\n",
      "235                 Niue           2\n",
      "234              Tokelau           3\n",
      "233       Falklandinseln           4\n",
      "232           Montserrat           5\n",
      "..                   ...         ...\n",
      "4               Pakistan      251270\n",
      "3             Indonesien      283488\n",
      "2     Vereinigte Staaten      345427\n",
      "1    Volksrepublik China     1419322\n",
      "0                 Indien     1450936\n",
      "\n",
      "[237 rows x 2 columns]\n"
     ]
    }
   ],
   "source": [
    "\n",
    "daten = df\n",
    "daten = daten.sort_values('population', ascending=True)\n",
    "print(daten)"
   ]
  },
  {
   "cell_type": "markdown",
   "metadata": {},
   "source": [
    "# English list section\n"
   ]
  },
  {
   "cell_type": "code",
   "execution_count": 2,
   "metadata": {},
   "outputs": [
    {
     "name": "stdout",
     "output_type": "stream",
     "text": [
      "237\n"
     ]
    }
   ],
   "source": [
    "url = 'https://en.wikipedia.org/wiki/List_of_countries_and_dependencies_by_population'\n",
    "html = pd.read_html(url)\n",
    "df = max(html, key=len)\n",
    "df = df[['Location', 'Population']]\n",
    "df = df[df['Location'] != 'World']\n",
    "df = df.iloc[:-2]\n",
    "df.columns = ['country', 'population']\n",
    "df['population'] = df['population'].astype(int)\n",
    "df['population'] = df['population'].apply(lambda x: math.ceil(x/1000))\n",
    "#df = df.sort_values('population', ascending=True)\n",
    "df = df.reset_index(drop=True)\n",
    "print(len(df))\n"
   ]
  },
  {
   "cell_type": "markdown",
   "metadata": {},
   "source": [
    "### Print bar diagram"
   ]
  },
  {
   "cell_type": "code",
   "execution_count": 4,
   "metadata": {},
   "outputs": [
    {
     "data": {
      "image/png": "[encoded data removed]",
      "text/plain": [
       "<Figure size 600x600 with 1 Axes>"
      ]
     },
     "metadata": {},
     "output_type": "display_data"
    }
   ],
   "source": [
    "import matplotlib.pyplot as plt \n",
    "\n",
    "#assert len(countries) == len(population)\n",
    "#countries = list(df['country'])\n",
    "#population = list(df['population'])\n",
    "countries = list(df['country'])\n",
    "population = list(df['population'])\n",
    "population = [(i/1000000) for i in population]\n",
    "\n",
    "fig, ax = plt.subplots(figsize=(6,6))\n",
    "\n",
    "bars = ax.bar(countries, population)\n",
    "\n",
    "plt.xticks([])\n",
    "\n",
    "ax.text(0,  # Position of India (first bar)\n",
    "        0.001,  # Population value (slightly above the bar)\n",
    "        f'Vatican City\\n496', \n",
    "        ha='center', \n",
    "        va='bottom')\n",
    "\n",
    "ax.text(len(countries)-1,  # Position of last bar\n",
    "        1.43,  # Population value (slightly above the bar)\n",
    "        f'India\\n1.45B', \n",
    "        ha='right', \n",
    "        va='bottom')\n",
    "\n",
    "ax.set_ylabel('population in billion')\n",
    "ax.set_title('Population by Country')\n",
    "\n",
    "plt.tight_layout()\n",
    "plt.savefig('../../results/plots/population_chart.png', dpi=600, bbox_inches='tight')\n",
    "\n",
    "plt.show()\n",
    "\n",
    "\n"
   ]
  },
  {
   "cell_type": "markdown",
   "metadata": {},
   "source": [
    "### Preparing for SQL DB"
   ]
  },
  {
   "cell_type": "code",
   "execution_count": 6,
   "metadata": {},
   "outputs": [
    {
     "name": "stdout",
     "output_type": "stream",
     "text": [
      "7945017\n",
      "Botswana\n"
     ]
    }
   ],
   "source": [
    "# Iterate using itertuples()\n",
    "import random\n",
    "\n",
    "entries = []\n",
    "for row in df.itertuples():\n",
    "    entries.extend([row.country] * row.population)\n",
    "random.shuffle(entries)\n",
    "    \n",
    "print(len(entries))\n",
    "print(entries[0])\n"
   ]
  },
  {
   "cell_type": "code",
   "execution_count": 7,
   "metadata": {},
   "outputs": [
    {
     "name": "stdout",
     "output_type": "stream",
     "text": [
      "[6149502 3842708 6200373 ... 5573992 4799252 3821729]\n",
      "7945017\n",
      "[7322152 2220512 9706641 3888090 3781853]\n"
     ]
    }
   ],
   "source": [
    "ids = np.random.choice(range(1000000, 10000000), \n",
    "                      size=len(entries), \n",
    "                      replace=False)\n",
    "\n",
    "\n",
    "print(ids[5:])\n",
    "print(len(ids))\n",
    "print(ids[:5])"
   ]
  },
  {
   "cell_type": "code",
   "execution_count": 11,
   "metadata": {},
   "outputs": [
    {
     "name": "stdout",
     "output_type": "stream",
     "text": [
      "Starting script...\n",
      "Database parameters set.\n",
      "Data zipped: [(7322152, 'Botswana'), (2220512, 'France'), (9706641, 'India'), (3888090, 'Colombia'), (3781853, 'Burkina Faso')]...\n",
      "Data formatted: [(7322152, 'Botswana'), (2220512, 'France'), (9706641, 'India'), (3888090, 'Colombia'), (3781853, 'Burkina Faso')]...\n",
      "Connecting to the database...\n",
      "Database connection established.\n",
      "Executing create table query...\n",
      "Create table query executed.\n",
      "Inserting data into the table...\n",
      "Data inserted and committed.\n",
      "Cursor closed.\n",
      "Connection closed.\n",
      "Script finished.\n"
     ]
    }
   ],
   "source": [
    "import src.utils.db_connector as dc\n",
    "from psycopg2.extras import execute_values\n",
    "\n",
    "print(\"Starting script...\")\n",
    "\n",
    "db_params = {\n",
    "    \"database\": \"countries\",\n",
    "    \"user\": \"fridtjofdamm\",\n",
    "    \"password\": \"\",\n",
    "    \"host\": \"localhost\",\n",
    "    \"port\": \"5432\"\n",
    "}\n",
    "\n",
    "print(\"Database parameters set.\")\n",
    "\n",
    "data = list(zip(ids, entries))\n",
    "print(f\"Data zipped: {data[:5]}...\")  # Print first 5 entries for debugging\n",
    "\n",
    "data = [(int(id_), str(entry)) for id_, entry in zip(ids, entries)]\n",
    "print(f\"Data formatted: {data[:5]}...\")  # Print first 5 entries for debugging\n",
    "\n",
    "try:\n",
    "    print(\"Connecting to the database...\")\n",
    "    conn = pg.connect(**db_params)\n",
    "    cur = conn.cursor()\n",
    "    print(\"Database connection established.\")\n",
    "\n",
    "    create_table_query = \"\"\"\n",
    "        CREATE TABLE IF NOT EXISTS users (\n",
    "        id INTEGER PRIMARY KEY,\n",
    "        country VARCHAR(255) NOT NULL\n",
    "        );\n",
    "    \"\"\"\n",
    "    print(\"Executing create table query...\")\n",
    "    cur.execute(create_table_query)\n",
    "    print(\"Create table query executed.\")\n",
    "\n",
    "    query = \"\"\"\n",
    "        INSERT INTO users (id, country)\n",
    "        VALUES %s\n",
    "    \"\"\"\n",
    "    print(\"Inserting data into the table...\")\n",
    "    execute_values(cur, query, data)\n",
    "    conn.commit()\n",
    "    print(\"Data inserted and committed.\")\n",
    "\n",
    "except Exception as e:\n",
    "    print(f\"Error: {e}\")\n",
    "    conn.rollback()\n",
    "    print(\"Transaction rolled back.\")\n",
    "\n",
    "finally:\n",
    "    if cur:\n",
    "        cur.close()\n",
    "        print(\"Cursor closed.\")\n",
    "    if conn:\n",
    "        conn.close()\n",
    "        print(\"Connection closed.\")\n",
    "\n",
    "print(\"Script finished.\")"
   ]
  },
  {
   "cell_type": "code",
   "execution_count": null,
   "metadata": {},
   "outputs": [
    {
     "name": "stdout",
     "output_type": "stream",
     "text": [
      "<class 'psycopg2.extensions.cursor'>\n"
     ]
    },
    {
     "ename": "NameError",
     "evalue": "name 'psycopg2' is not defined",
     "output_type": "error",
     "traceback": [
      "\u001b[0;31m---------------------------------------------------------------------------\u001b[0m",
      "\u001b[0;31mFileNotFoundError\u001b[0m                         Traceback (most recent call last)",
      "Cell \u001b[0;32mIn[34], line 29\u001b[0m\n\u001b[1;32m     28\u001b[0m res \u001b[38;5;241m=\u001b[39m cur\u001b[38;5;241m.\u001b[39mfetchall()\n\u001b[0;32m---> 29\u001b[0m \u001b[38;5;28;01mwith\u001b[39;00m \u001b[38;5;28;43mopen\u001b[39;49m\u001b[43m(\u001b[49m\u001b[38;5;124;43mf\u001b[39;49m\u001b[38;5;124;43m'\u001b[39;49m\u001b[38;5;124;43mresources/query_examples/qplans_country_example/\u001b[39;49m\u001b[38;5;132;43;01m{\u001b[39;49;00m\u001b[43mcountry\u001b[49m\u001b[38;5;132;43;01m}\u001b[39;49;00m\u001b[38;5;124;43m.json\u001b[39;49m\u001b[38;5;124;43m'\u001b[39;49m\u001b[43m,\u001b[49m\u001b[43m \u001b[49m\u001b[43mencoding\u001b[49m\u001b[38;5;241;43m=\u001b[39;49m\u001b[38;5;124;43m'\u001b[39;49m\u001b[38;5;124;43mutf-8\u001b[39;49m\u001b[38;5;124;43m'\u001b[39;49m\u001b[43m,\u001b[49m\u001b[43m \u001b[49m\u001b[43mmode\u001b[49m\u001b[38;5;241;43m=\u001b[39;49m\u001b[38;5;124;43m'\u001b[39;49m\u001b[38;5;124;43mw\u001b[39;49m\u001b[38;5;124;43m'\u001b[39;49m\u001b[43m)\u001b[49m \u001b[38;5;28;01mas\u001b[39;00m f:\n\u001b[1;32m     30\u001b[0m     json\u001b[38;5;241m.\u001b[39mdump(res, f)\n",
      "File \u001b[0;32m~/.pyenv/versions/3.10.0/envs/thesis/lib/python3.10/site-packages/IPython/core/interactiveshell.py:324\u001b[0m, in \u001b[0;36m_modified_open\u001b[0;34m(file, *args, **kwargs)\u001b[0m\n\u001b[1;32m    318\u001b[0m     \u001b[38;5;28;01mraise\u001b[39;00m \u001b[38;5;167;01mValueError\u001b[39;00m(\n\u001b[1;32m    319\u001b[0m         \u001b[38;5;124mf\u001b[39m\u001b[38;5;124m\"\u001b[39m\u001b[38;5;124mIPython won\u001b[39m\u001b[38;5;124m'\u001b[39m\u001b[38;5;124mt let you open fd=\u001b[39m\u001b[38;5;132;01m{\u001b[39;00mfile\u001b[38;5;132;01m}\u001b[39;00m\u001b[38;5;124m by default \u001b[39m\u001b[38;5;124m\"\u001b[39m\n\u001b[1;32m    320\u001b[0m         \u001b[38;5;124m\"\u001b[39m\u001b[38;5;124mas it is likely to crash IPython. If you know what you are doing, \u001b[39m\u001b[38;5;124m\"\u001b[39m\n\u001b[1;32m    321\u001b[0m         \u001b[38;5;124m\"\u001b[39m\u001b[38;5;124myou can use builtins\u001b[39m\u001b[38;5;124m'\u001b[39m\u001b[38;5;124m open.\u001b[39m\u001b[38;5;124m\"\u001b[39m\n\u001b[1;32m    322\u001b[0m     )\n\u001b[0;32m--> 324\u001b[0m \u001b[38;5;28;01mreturn\u001b[39;00m \u001b[43mio_open\u001b[49m\u001b[43m(\u001b[49m\u001b[43mfile\u001b[49m\u001b[43m,\u001b[49m\u001b[43m \u001b[49m\u001b[38;5;241;43m*\u001b[39;49m\u001b[43margs\u001b[49m\u001b[43m,\u001b[49m\u001b[43m \u001b[49m\u001b[38;5;241;43m*\u001b[39;49m\u001b[38;5;241;43m*\u001b[39;49m\u001b[43mkwargs\u001b[49m\u001b[43m)\u001b[49m\n",
      "\u001b[0;31mFileNotFoundError\u001b[0m: [Errno 2] No such file or directory: 'resources/query_examples/qplans_country_example/Vatikanstadt.json'",
      "\nDuring handling of the above exception, another exception occurred:\n",
      "\u001b[0;31mNameError\u001b[0m                                 Traceback (most recent call last)",
      "Cell \u001b[0;32mIn[34], line 32\u001b[0m\n\u001b[1;32m     29\u001b[0m         \u001b[38;5;28;01mwith\u001b[39;00m \u001b[38;5;28mopen\u001b[39m(\u001b[38;5;124mf\u001b[39m\u001b[38;5;124m'\u001b[39m\u001b[38;5;124mresources/query_examples/qplans_country_example/\u001b[39m\u001b[38;5;132;01m{\u001b[39;00mcountry\u001b[38;5;132;01m}\u001b[39;00m\u001b[38;5;124m.json\u001b[39m\u001b[38;5;124m'\u001b[39m, encoding\u001b[38;5;241m=\u001b[39m\u001b[38;5;124m'\u001b[39m\u001b[38;5;124mutf-8\u001b[39m\u001b[38;5;124m'\u001b[39m, mode\u001b[38;5;241m=\u001b[39m\u001b[38;5;124m'\u001b[39m\u001b[38;5;124mw\u001b[39m\u001b[38;5;124m'\u001b[39m) \u001b[38;5;28;01mas\u001b[39;00m f:\n\u001b[1;32m     30\u001b[0m             json\u001b[38;5;241m.\u001b[39mdump(res, f)\n\u001b[0;32m---> 32\u001b[0m \u001b[38;5;28;01mexcept\u001b[39;00m \u001b[43mpsycopg2\u001b[49m\u001b[38;5;241m.\u001b[39mError \u001b[38;5;28;01mas\u001b[39;00m err:\n\u001b[1;32m     33\u001b[0m     conn\u001b[38;5;241m.\u001b[39mrollback()\n\u001b[1;32m     34\u001b[0m     \u001b[38;5;28;01mraise\u001b[39;00m err\n",
      "\u001b[0;31mNameError\u001b[0m: name 'psycopg2' is not defined"
     ]
    }
   ],
   "source": [
    "import json\n",
    "# india vs vatican city examle\n",
    "test_countries = [\"Vatikanstadt\", \"Indien\"]\n",
    "\n",
    "db_params = {\n",
    "    \"dbname\": \"countries\",\n",
    "    \"user\": \"fridtjofdamm\",\n",
    "    \"password\": \"\",\n",
    "    \"host\": \"localhost\",\n",
    "    \"port\": \"5432\"\n",
    "}\n",
    "\n",
    "\n",
    "conn = pg.connect(**db_params)\n",
    "cur = conn.cursor()\n",
    "print(type(cur))\n",
    "\n",
    "\n",
    "query = \"\"\"\n",
    "    EXPLAIN (FORMAT JSON, ANALYZE) \n",
    "    SELECT id, country \n",
    "    FROM users \n",
    "    WHERE country = %s;\n",
    "\"\"\"\n",
    "try:\n",
    "    for country in test_countries:\n",
    "        cur.execute(query, (country,))\n",
    "        res = cur.fetchall()\n",
    "        with open(f'resources/query_examples/qplans_country_example/{country}.json', encoding='utf-8', mode='w') as f:\n",
    "            json.dump(res, f)\n",
    "\n",
    "except psycopg2.Error as err:\n",
    "    conn.rollback()\n",
    "    raise err\n",
    "finally:\n",
    "    cur.close()\n",
    "    conn.close()\n",
    "\n",
    "print(res)\n"
   ]
  }
 ],
 "metadata": {
  "kernelspec": {
   "display_name": "thesis",
   "language": "python",
   "name": "python3"
  },
  "language_info": {
   "codemirror_mode": {
    "name": "ipython",
    "version": 3
   },
   "file_extension": ".py",
   "mimetype": "text/x-python",
   "name": "python",
   "nbconvert_exporter": "python",
   "pygments_lexer": "ipython3",
   "version": "3.10.0"
  }
 },
 "nbformat": 4,
 "nbformat_minor": 2
}
